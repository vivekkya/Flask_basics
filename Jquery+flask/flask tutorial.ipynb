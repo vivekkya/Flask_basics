{
 "cells": [
  {
   "cell_type": "markdown",
   "metadata": {},
   "source": [
    "# FLASK"
   ]
  },
  {
   "cell_type": "markdown",
   "metadata": {},
   "source": [
    "   **Need of FLASK?**\n",
    "\n",
    "   **What is** \n",
    "        \n",
    "        1) Flask       - Flask is a web application framework written in Python.Based on Werkzeug WSGI and Jinga2\n",
    "        \n",
    "        2) WSGI        - Web Server Gateway Interface (WSGI) has been adopted as a standard for Python web application \n",
    "                         development. WSGI is a specification for a universal interface between the web server and the web \n",
    "                         applications.\n",
    "                         \n",
    "        3) Werkzeug    - It is a WSGI toolkit, which implements requests, response objects, and other utility functions. \n",
    "        \n",
    "        4) Jinga2      - is a popular templating engine for Python.A web templating system combines a template with a \n",
    "                         certain data source to render dynamic web pages."
   ]
  },
  {
   "cell_type": "markdown",
   "metadata": {},
   "source": [
    "   **Topics to cover:**\n",
    "        \n",
    "        1) Deploy flask on localhost\n",
    "        2) deploy on specific port\n",
    "        3) return a string \"Learning Flask\"\n",
    "        4) Render a HTML page\n",
    "        5) Using jquery to communicate between frontend and flask\n",
    "        6) Deploying NLP classification model using flask \n",
    "        "
   ]
  },
  {
   "cell_type": "code",
   "execution_count": null,
   "metadata": {},
   "outputs": [
    {
     "name": "stdout",
     "output_type": "stream",
     "text": [
      " * Serving Flask app \"__main__\" (lazy loading)\n",
      " * Environment: production\n",
      "   WARNING: Do not use the development server in a production environment.\n",
      "   Use a production WSGI server instead.\n",
      " * Debug mode: off\n"
     ]
    },
    {
     "name": "stderr",
     "output_type": "stream",
     "text": [
      " * Running on http://127.0.0.1:5000/ (Press CTRL+C to quit)\n",
      "127.0.0.1 - - [22/Jan/2019 15:13:06] \"GET / HTTP/1.1\" 200 -\n",
      "127.0.0.1 - - [22/Jan/2019 15:13:26] \"GET / HTTP/1.1\" 200 -\n"
     ]
    }
   ],
   "source": [
    "from flask import Flask\n",
    "\n",
    "app= Flask(__name__)\n",
    "\n",
    "@app.route('/')\n",
    "def hello():\n",
    "    return \" Learning Flask\"\n",
    "\n",
    "if __name__==\"__main__\":\n",
    "    app.run()"
   ]
  },
  {
   "cell_type": "markdown",
   "metadata": {},
   "source": [
    "**Line 3** initializes an app variable, using the __name__ attribute\n",
    "\n",
    "**Line 5** The @app.route is a Python decorator. It takes the function directly below it and modifies it. In this case, we use this to route traffic from a specific URL to the function directly below. Using different @app.route calls, we can 'trigger' different parts of the code when the user visits different parts of our application. In this case, we only have a single route /, which is the default \"root\" of our application.\n",
    "\n",
    "**Line 9** is normal Python boilerplate to make sure we don't run anything automatically if our code is imported by another Python script.\n",
    "\n",
    "**Line 10** calls the run() method of the app we initialized in Line 3."
   ]
  },
  {
   "cell_type": "markdown",
   "metadata": {},
   "source": [
    "#### Create other routes:"
   ]
  },
  {
   "cell_type": "markdown",
   "metadata": {},
   "source": [
    "    Add other routes as well:\n",
    "        1) /home\n",
    "        2) /about"
   ]
  },
  {
   "cell_type": "code",
   "execution_count": null,
   "metadata": {},
   "outputs": [
    {
     "name": "stdout",
     "output_type": "stream",
     "text": [
      " * Serving Flask app \"__main__\" (lazy loading)\n",
      " * Environment: production\n",
      "   WARNING: Do not use the development server in a production environment.\n",
      "   Use a production WSGI server instead.\n",
      " * Debug mode: off\n"
     ]
    },
    {
     "name": "stderr",
     "output_type": "stream",
     "text": [
      " * Running on http://127.0.0.1:5000/ (Press CTRL+C to quit)\n",
      "127.0.0.1 - - [22/Jan/2019 15:13:57] \"GET / HTTP/1.1\" 200 -\n",
      "127.0.0.1 - - [22/Jan/2019 15:14:06] \"GET /home HTTP/1.1\" 200 -\n",
      "127.0.0.1 - - [22/Jan/2019 15:14:18] \"GET /about HTTP/1.1\" 200 -\n"
     ]
    }
   ],
   "source": [
    "from flask import Flask\n",
    "\n",
    "app= Flask(__name__)\n",
    "\n",
    "@app.route('/')\n",
    "def hello():\n",
    "    return \"Learning Flask\"\n",
    "\n",
    "@app.route('/home')\n",
    "def home():\n",
    "    return \" This is home page\"\n",
    "def print_a():\n",
    "    \n",
    "@app.route('/about')\n",
    "def about():\n",
    "    return \" This is about page\"\n",
    "\n",
    "if __name__==\"__main__\":\n",
    "    app.run()"
   ]
  },
  {
   "cell_type": "markdown",
   "metadata": {},
   "source": [
    "\n",
    "   #### Quesions:\n",
    "   <div class=\"mark\">\n",
    "            1) Can we have multiple functions under one route?                       \n",
    "    </div><i class=\"fa fa-lightbulb-o \"></i>"
   ]
  },
  {
   "cell_type": "markdown",
   "metadata": {},
   "source": [
    "   <div class=\"mark\">\n",
    "            1) Can we use functions defined under other routes?                       \n",
    "    </div><i class=\"fa fa-lightbulb-o \"></i>"
   ]
  },
  {
   "cell_type": "markdown",
   "metadata": {},
   "source": [
    "### Flask+html+jquery "
   ]
  },
  {
   "cell_type": "markdown",
   "metadata": {},
   "source": [
    "**STEP1:** Create a folder named \"templates\" having a HTML file named frontend.html\n",
    "    so folder structure should be like\n",
    "    \n",
    "    -templates\n",
    "       -frontend.html\n",
    "    -flask tutorial.ipynb\n",
    "    \n",
    "**STEP2** Import render_template from flask package\n",
    "    \n",
    "**STEP3** Copy this basic HTML code into frontend.html"
   ]
  },
  {
   "cell_type": "raw",
   "metadata": {},
   "source": [
    "<!doctype html>\n",
    "<html>\n",
    "   <body>\n",
    "   \n",
    "      <h1>Hello!</h1>\n",
    "      \n",
    "   </body>\n",
    "</html>"
   ]
  },
  {
   "cell_type": "code",
   "execution_count": null,
   "metadata": {},
   "outputs": [
    {
     "name": "stdout",
     "output_type": "stream",
     "text": [
      " * Serving Flask app \"__main__\" (lazy loading)\n",
      " * Environment: production\n",
      "   WARNING: Do not use the development server in a production environment.\n",
      "   Use a production WSGI server instead.\n",
      " * Debug mode: off\n"
     ]
    },
    {
     "name": "stderr",
     "output_type": "stream",
     "text": [
      " * Running on http://127.0.0.1:5000/ (Press CTRL+C to quit)\n",
      "127.0.0.1 - - [22/Jan/2019 15:18:01] \"GET / HTTP/1.1\" 200 -\n",
      "127.0.0.1 - - [22/Jan/2019 15:18:04] \"GET /home HTTP/1.1\" 200 -\n",
      "127.0.0.1 - - [22/Jan/2019 15:18:23] \"GET /about HTTP/1.1\" 200 -\n"
     ]
    }
   ],
   "source": [
    "from flask import Flask,render_template\n",
    "\n",
    "app= Flask(__name__)\n",
    "\n",
    "@app.route('/')\n",
    "def hello():\n",
    "    return \"Learning Flask\"\n",
    "\n",
    "@app.route('/home')\n",
    "def home():\n",
    "    return render_template('frontend.html')\n",
    "\n",
    "@app.route('/about')\n",
    "def about():\n",
    "    return \" This is about page\"\n",
    "\n",
    "if __name__==\"__main__\":\n",
    "    app.run()"
   ]
  },
  {
   "cell_type": "markdown",
   "metadata": {},
   "source": [
    "### Get input from frontend -> process it -> give back output to html"
   ]
  },
  {
   "cell_type": "markdown",
   "metadata": {},
   "source": [
    "<img src=\"explaination.png\">"
   ]
  },
  {
   "cell_type": "markdown",
   "metadata": {},
   "source": [
    "Copy below code into frontend.html to create a textbox, count button and to display result returned by flask"
   ]
  },
  {
   "cell_type": "raw",
   "metadata": {},
   "source": [
    "<!doctype html>\n",
    "<html>\n",
    "   <body>\n",
    "   \n",
    "\t<h1>Words Counter </h1>\n",
    "\t<br>\n",
    "\t<textarea type=text rows=\"5\" cols=\"60\" name=inputText> Enter text here <textarea>\n",
    "\t<br>\n",
    "\t<a href=# id=process_input><button class='btn btn-default'>Count</button></a>\n",
    "\t<br>\n",
    "\t<p id=result></p>\n",
    "\t \n",
    "   </body>\n",
    "</html>"
   ]
  },
  {
   "cell_type": "code",
   "execution_count": null,
   "metadata": {},
   "outputs": [
    {
     "name": "stdout",
     "output_type": "stream",
     "text": [
      " * Serving Flask app \"__main__\" (lazy loading)\n",
      " * Environment: production\n",
      "   WARNING: Do not use the development server in a production environment.\n",
      "   Use a production WSGI server instead.\n",
      " * Debug mode: off\n"
     ]
    },
    {
     "name": "stderr",
     "output_type": "stream",
     "text": [
      " * Running on http://127.0.0.1:5000/ (Press CTRL+C to quit)\n",
      "127.0.0.1 - - [22/Jan/2019 15:20:35] \"GET / HTTP/1.1\" 200 -\n",
      "127.0.0.1 - - [22/Jan/2019 15:20:37] \"GET /home HTTP/1.1\" 200 -\n"
     ]
    }
   ],
   "source": [
    "from flask import Flask,render_template\n",
    "\n",
    "app= Flask(__name__)\n",
    "\n",
    "@app.route('/')\n",
    "def hello():\n",
    "    return \"Learning Flask\"\n",
    "\n",
    "@app.route('/home')\n",
    "def home():\n",
    "    return render_template('frontend.html')\n",
    "\n",
    "@app.route('/about')\n",
    "def about():\n",
    "    return \" This is about page\"\n",
    "\n",
    "if __name__==\"__main__\":\n",
    "    app.run()"
   ]
  },
  {
   "cell_type": "markdown",
   "metadata": {},
   "source": [
    "##### Add jquery to frontend.html"
   ]
  },
  {
   "cell_type": "raw",
   "metadata": {},
   "source": [
    "<head>\n",
    "\t<script src=\"//ajax.googleapis.com/ajax/libs/jquery/1.9.1/jquery.min.js\"></script>\n",
    "\t<script type=text/javascript>\n",
    "\t\t$(function() {\n",
    "\t\t\t $('a#process_input').bind('click', function() {\n",
    "\t\t\t$.getJSON('/count', {\n",
    "\t\t\t\t inputText: $('textarea[name=\"inputText\"]').val(),\n",
    "\t\t\t}, function(data) {\n",
    "\t\t\t\t $(\"#result\").text(data.result);\n",
    "\t\t\t});\n",
    "\t\t\treturn false;\n",
    "\t\t\t });\n",
    "\t\t});\n",
    "\t</script>\n",
    "</head>"
   ]
  },
  {
   "cell_type": "markdown",
   "metadata": {},
   "source": [
    "<img src=\"explaination_jquery_flask.png\">"
   ]
  },
  {
   "cell_type": "code",
   "execution_count": null,
   "metadata": {},
   "outputs": [
    {
     "name": "stdout",
     "output_type": "stream",
     "text": [
      " * Serving Flask app \"__main__\" (lazy loading)\n",
      " * Environment: production\n",
      "   WARNING: Do not use the development server in a production environment.\n",
      "   Use a production WSGI server instead.\n",
      " * Debug mode: off\n"
     ]
    },
    {
     "name": "stderr",
     "output_type": "stream",
     "text": [
      " * Running on http://127.0.0.1:5000/ (Press CTRL+C to quit)\n",
      "127.0.0.1 - - [22/Jan/2019 15:23:29] \"GET / HTTP/1.1\" 200 -\n",
      "127.0.0.1 - - [22/Jan/2019 15:23:31] \"GET /home HTTP/1.1\" 200 -\n",
      "127.0.0.1 - - [22/Jan/2019 15:23:37] \"GET /count?inputText=+Enter+text+here+ HTTP/1.1\" 200 -\n"
     ]
    }
   ],
   "source": [
    "from flask import Flask,render_template,jsonify,request\n",
    "\n",
    "app= Flask(__name__)\n",
    "\n",
    "@app.route('/')\n",
    "def hello():\n",
    "    return \"Learning Flask\"\n",
    "\n",
    "@app.route('/home')\n",
    "def home():\n",
    "    return render_template('frontend.html')\n",
    "#--------------------------------------------------------------------------------------------------\n",
    "@app.route('/count')\n",
    "def count_words():\n",
    "    text=request.args.get('inputText',0,type=str)\n",
    "    count=0\n",
    "    for i in text.split():\n",
    "        count+=1\n",
    "    return jsonify(result=\"number of words in textbox is {}\".format(count))\n",
    "#----------------------------------------------------------------------------------------------------\n",
    "@app.route('/about')\n",
    "def about():\n",
    "    return \" This is about page\"\n",
    "\n",
    "if __name__==\"__main__\":\n",
    "    app.run()"
   ]
  },
  {
   "cell_type": "markdown",
   "metadata": {},
   "source": [
    "### Adding NLP classifier model to this:"
   ]
  },
  {
   "cell_type": "markdown",
   "metadata": {},
   "source": [
    "**Add following lines in 'body' of frontend.html**"
   ]
  },
  {
   "cell_type": "raw",
   "metadata": {},
   "source": [
    "<b href=# id=classify_input><button class='btn btn-default'>Classify</button></b>\n",
    "<br>\n",
    "<p id=classification_result></p>"
   ]
  },
  {
   "cell_type": "markdown",
   "metadata": {},
   "source": [
    "**And below lines in jquery part**"
   ]
  },
  {
   "cell_type": "raw",
   "metadata": {},
   "source": [
    "$('b#classify_input').bind('click', function() {\n",
    "\t\t\t$.getJSON('/classify', {\n",
    "\t\t\t\t inputText: $('textarea[name=\"inputText\"]').val(),\n",
    "\t\t\t}, function(data) {\n",
    "\t\t\t\t $(\"#classification_result\").text(data.classifier_result);\n",
    "\t\t\t});\n",
    "\t\t\treturn false;\n",
    "\t\t\t });"
   ]
  },
  {
   "cell_type": "code",
   "execution_count": 1,
   "metadata": {},
   "outputs": [],
   "source": [
    "import pickle\n",
    "import numpy as np\n",
    "from sklearn.feature_extraction.text import TfidfVectorizer\n",
    "news_classifier_model = pickle.load(open('model1.pkl', 'rb'))\n",
    "tf1_new = TfidfVectorizer(sublinear_tf=True, min_df=5, norm='l2', encoding='latin-1', ngram_range=(1, 2), stop_words='english',vocabulary=pickle.load(open(\"feature.pkl\", \"rb\")))"
   ]
  },
  {
   "cell_type": "code",
   "execution_count": null,
   "metadata": {},
   "outputs": [
    {
     "name": "stdout",
     "output_type": "stream",
     "text": [
      " * Serving Flask app \"__main__\" (lazy loading)\n",
      " * Environment: production\n",
      "   WARNING: Do not use the development server in a production environment.\n",
      "   Use a production WSGI server instead.\n",
      " * Debug mode: off\n"
     ]
    },
    {
     "name": "stderr",
     "output_type": "stream",
     "text": [
      " * Running on http://127.0.0.1:5000/ (Press CTRL+C to quit)\n",
      "127.0.0.1 - - [22/Jan/2019 15:27:30] \"GET / HTTP/1.1\" 200 -\n",
      "127.0.0.1 - - [22/Jan/2019 15:27:35] \"GET /home HTTP/1.1\" 200 -\n",
      "127.0.0.1 - - [22/Jan/2019 15:27:55] \"GET /count?inputText=Dhoni+scored+a+century HTTP/1.1\" 200 -\n",
      "127.0.0.1 - - [22/Jan/2019 15:28:03] \"GET /classify?inputText=Dhoni+scored+a+century HTTP/1.1\" 200 -\n"
     ]
    }
   ],
   "source": [
    "from flask import Flask,render_template,jsonify,request\n",
    "\n",
    "app= Flask(__name__)\n",
    "\n",
    "@app.route('/')\n",
    "def hello():\n",
    "    return \"Learning Flask\"\n",
    "\n",
    "@app.route('/home')\n",
    "def home():\n",
    "    return render_template('frontend.html')\n",
    "\n",
    "@app.route('/count')\n",
    "def count_words():\n",
    "    text=request.args.get('inputText',0,type=str)\n",
    "    count=0\n",
    "    for i in text.split():\n",
    "        count+=1\n",
    "    return jsonify(result=\"number of words in textbox is {}\".format(count))\n",
    "#----------------------------------------------------------------------------------------------------------------\n",
    "@app.route('/classify')\n",
    "def classify():\n",
    "    received_text=request.args.get('inputText',0,type=str)\n",
    "    \n",
    "    text_features=tf1_new.fit_transform([received_text])\n",
    "    predictions1 = news_classifier_model.predict(text_features)\n",
    "    id_to_category=np.array(['business','entertainment','politics','sport','tech'])\n",
    "    prediction=id_to_category[predictions1]\n",
    "    \n",
    "    return jsonify(classifier_result=\"Above text belongs to {} category\".format(prediction[0]))\n",
    "#----------------------------------------------------------------------------------------------------------------\n",
    "@app.route('/about')\n",
    "def about():\n",
    "    return \" This is about page\"\n",
    "\n",
    "if __name__==\"__main__\":\n",
    "    app.run()"
   ]
  },
  {
   "cell_type": "code",
   "execution_count": null,
   "metadata": {},
   "outputs": [],
   "source": []
  }
 ],
 "metadata": {
  "hide_input": false,
  "kernelspec": {
   "display_name": "Python 3",
   "language": "python",
   "name": "python3"
  },
  "language_info": {
   "codemirror_mode": {
    "name": "ipython",
    "version": 3
   },
   "file_extension": ".py",
   "mimetype": "text/x-python",
   "name": "python",
   "nbconvert_exporter": "python",
   "pygments_lexer": "ipython3",
   "version": "3.7.0"
  },
  "toc": {
   "base_numbering": 1,
   "nav_menu": {},
   "number_sections": true,
   "sideBar": true,
   "skip_h1_title": false,
   "title_cell": "Table of Contents",
   "title_sidebar": "Contents",
   "toc_cell": false,
   "toc_position": {},
   "toc_section_display": true,
   "toc_window_display": false
  }
 },
 "nbformat": 4,
 "nbformat_minor": 2
}
